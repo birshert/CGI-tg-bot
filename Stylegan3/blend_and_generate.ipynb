{
 "cells": [
  {
   "cell_type": "code",
   "execution_count": null,
   "metadata": {
    "collapsed": true
   },
   "outputs": [],
   "source": [
    "from blend_models import blend\n",
    "import os\n",
    "import re\n",
    "from typing import List, Optional, Tuple, Union\n",
    "from gen_images import make_transform\n",
    "import dnnlib\n",
    "import numpy as np\n",
    "import PIL.Image\n",
    "import torch\n",
    "\n",
    "import legacy"
   ]
  },
  {
   "cell_type": "code",
   "execution_count": null,
   "outputs": [],
   "source": [
    "outdir = 'samples'\n",
    "\n",
    "device = torch.device('cuda')\n",
    "\n",
    "G = blend('models/stylegan3-r-ffhq-1024x1024.pkl', 'models/stylegan3-r-ffhq-1024x1024-cartoon.pkl', 5)\n",
    "os.makedirs(outdir, exist_ok=True)\n",
    "\n",
    "# Generate images.\n",
    "seeds = [1, 2, 3, 4, 5, 6]\n",
    "for seed_idx, seed in enumerate(seeds):\n",
    "    print('Generating image for seed %d (%d/%d) ...' % (seed, seed_idx, len(seeds)))\n",
    "    z = torch.from_numpy(np.random.RandomState(seed).randn(1, G.z_dim)).to(device)\n",
    "\n",
    "    # Construct an inverse rotation/translation matrix and pass to the generator.  The\n",
    "    # generator expects this matrix as an inverse to avoid potentially failing numerical\n",
    "    # operations in the network.\n",
    "    if hasattr(G.synthesis, 'input'):\n",
    "        m = make_transform((0, 0), 0)\n",
    "        m = np.linalg.inv(m)\n",
    "        G.synthesis.input.transform.copy_(torch.from_numpy(m))\n",
    "\n",
    "    img = G(z, torch.zeros([1, G.c_dim], device=device), truncation_psi=1, noise_mode='const')\n",
    "    img = (img.permute(0, 2, 3, 1) * 127.5 + 128).clamp(0, 255).to(torch.uint8)\n",
    "    PIL.Image.fromarray(img[0].cpu().numpy(), 'RGB').save(f'{outdir}/seed{seed:04d}.png')\n"
   ],
   "metadata": {
    "collapsed": false,
    "pycharm": {
     "name": "#%%\n"
    }
   }
  }
 ],
 "metadata": {
  "kernelspec": {
   "display_name": "Python 3",
   "language": "python",
   "name": "python3"
  },
  "language_info": {
   "codemirror_mode": {
    "name": "ipython",
    "version": 2
   },
   "file_extension": ".py",
   "mimetype": "text/x-python",
   "name": "python",
   "nbconvert_exporter": "python",
   "pygments_lexer": "ipython2",
   "version": "2.7.6"
  }
 },
 "nbformat": 4,
 "nbformat_minor": 0
}