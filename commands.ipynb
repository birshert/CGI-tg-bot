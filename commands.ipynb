{
 "cells": [
  {
   "cell_type": "code",
   "execution_count": null,
   "metadata": {
    "collapsed": true
   },
   "outputs": [],
   "source": [
    "# Run commands to reproduce"
   ]
  },
  {
   "cell_type": "code",
   "execution_count": null,
   "outputs": [],
   "source": [
    "# tg bot\n",
    "\n",
    "! export BOT_TOKEN=\"BOT_TOKEN\"\n",
    "! python3.9 bot/main.py"
   ],
   "metadata": {
    "collapsed": false,
    "pycharm": {
     "name": "#%%\n"
    }
   }
  },
  {
   "cell_type": "code",
   "execution_count": null,
   "outputs": [],
   "source": [
    "# finetune stylegan3 on cartoon dataset\n",
    "\n",
    "! wget https://github.com/birshert/CGI-tg-bot/releases/download/model/stylegan3-r-ffhq-1024x1024.pkl -O Stylegan3/models/stylegan3-r-ffhq-1024x1024.pkl\n",
    "\n",
    "! python3.9 Stylegan3/train.py --outdir Stylegan3/training_output --data Stylegan3/cartoon --cfg=stylegan3-r --gpus=1 --batch=32 --gamma=8 --batch-gpu=4 --snap=2 --resume Stylegan3/stylegan3-r-ffhq-1024x1024.pkl --kimg=10000\n",
    "\n",
    "! mv Stylegan3/training_output/network-snapshot.pkl Stylegan3/models/stylegan3-r-ffhq-1024x1024-cartoon.pkl\n",
    "\n",
    "! python3.9 Stylegan3/blend_models.py --path1 Stylegan3/models/stylegan3-r-ffhq-1024x1024.pkl --path2 Stylegan3/models/stylegan3-r-ffhq-1024x1024-cartoon.pkl --cnt 5 --path3 Stylegan3/models/blended_generator.pt"
   ],
   "metadata": {
    "collapsed": false,
    "pycharm": {
     "name": "#%%\n"
    }
   }
  },
  {
   "cell_type": "code",
   "execution_count": null,
   "outputs": [],
   "source": [],
   "metadata": {
    "collapsed": false,
    "pycharm": {
     "name": "#%%\n"
    }
   }
  },
  {
   "cell_type": "code",
   "execution_count": null,
   "outputs": [],
   "source": [],
   "metadata": {
    "collapsed": false,
    "pycharm": {
     "name": "#%%"
    }
   }
  }
 ],
 "metadata": {
  "kernelspec": {
   "display_name": "Python 3",
   "language": "python",
   "name": "python3"
  },
  "language_info": {
   "codemirror_mode": {
    "name": "ipython",
    "version": 2
   },
   "file_extension": ".py",
   "mimetype": "text/x-python",
   "name": "python",
   "nbconvert_exporter": "python",
   "pygments_lexer": "ipython2",
   "version": "2.7.6"
  }
 },
 "nbformat": 4,
 "nbformat_minor": 0
}